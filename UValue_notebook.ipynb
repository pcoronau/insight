{
 "cells": [
  {
   "cell_type": "markdown",
   "metadata": {},
   "source": [
    "## Imports:"
   ]
  },
  {
   "cell_type": "code",
   "execution_count": 1,
   "metadata": {
    "collapsed": true
   },
   "outputs": [],
   "source": [
    "import pandas as pd\n",
    "import numpy as np\n",
    "import matplotlib.pyplot as plt\n",
    "%matplotlib inline\n",
    "import seaborn as sns\n",
    "import gzip\n",
    "import gensim \n",
    "import logging\n",
    "logging.basicConfig(format='%(asctime)s : %(levelname)s : %(message)s', level=logging.INFO)\n",
    "from gensim.utils import simple_preprocess\n",
    "from gensim.parsing.preprocessing import STOPWORDS\n",
    "import nltk\n",
    "import time\n",
    "import re\n",
    "import pickle\n",
    "import math\n",
    "from scipy.spatial.distance import cosine as sp_cosine\n",
    "from sklearn.metrics.pairwise import cosine_similarity as sk_cosine"
   ]
  },
  {
   "cell_type": "markdown",
   "metadata": {},
   "source": [
    "## Load company reviews from pickle file:\n",
    "### This dataframe contains the positive and negative reviews, along with stock index and company name. Each row corresponds to different reviews."
   ]
  },
  {
   "cell_type": "code",
   "execution_count": 2,
   "metadata": {
    "collapsed": true
   },
   "outputs": [],
   "source": [
    "reviews= pd.read_pickle('./reviews_pickle_company.pkl')"
   ]
  },
  {
   "cell_type": "code",
   "execution_count": 3,
   "metadata": {},
   "outputs": [
    {
     "data": {
      "text/html": [
       "<div>\n",
       "<style scoped>\n",
       "    .dataframe tbody tr th:only-of-type {\n",
       "        vertical-align: middle;\n",
       "    }\n",
       "\n",
       "    .dataframe tbody tr th {\n",
       "        vertical-align: top;\n",
       "    }\n",
       "\n",
       "    .dataframe thead th {\n",
       "        text-align: right;\n",
       "    }\n",
       "</style>\n",
       "<table border=\"1\" class=\"dataframe\">\n",
       "  <thead>\n",
       "    <tr style=\"text-align: right;\">\n",
       "      <th></th>\n",
       "      <th>Ticker Symbol</th>\n",
       "      <th>PROs</th>\n",
       "      <th>CONs</th>\n",
       "      <th>company</th>\n",
       "    </tr>\n",
       "  </thead>\n",
       "  <tbody>\n",
       "    <tr>\n",
       "      <th>0</th>\n",
       "      <td>nyse:t</td>\n",
       "      <td>Great people to work with. Benefits are great.</td>\n",
       "      <td>Constant pressure to hit unattainable numbers ...</td>\n",
       "      <td>AT&amp;T Inc</td>\n",
       "    </tr>\n",
       "    <tr>\n",
       "      <th>1</th>\n",
       "      <td>nyse:t</td>\n",
       "      <td>Flexible schedule, great management team, PTO ...</td>\n",
       "      <td>I currently do not have any cons</td>\n",
       "      <td>AT&amp;T Inc</td>\n",
       "    </tr>\n",
       "    <tr>\n",
       "      <th>2</th>\n",
       "      <td>nyse:t</td>\n",
       "      <td>Amazing pay for a company that is so huge and ...</td>\n",
       "      <td>Management is always changing which leads to h...</td>\n",
       "      <td>AT&amp;T Inc</td>\n",
       "    </tr>\n",
       "    <tr>\n",
       "      <th>3</th>\n",
       "      <td>nyse:t</td>\n",
       "      <td>Benefits, compensation, management, my positio...</td>\n",
       "      <td>Way too much red tape...to be expected for a c...</td>\n",
       "      <td>AT&amp;T Inc</td>\n",
       "    </tr>\n",
       "  </tbody>\n",
       "</table>\n",
       "</div>"
      ],
      "text/plain": [
       "  Ticker Symbol                                               PROs  \\\n",
       "0        nyse:t     Great people to work with. Benefits are great.   \n",
       "1        nyse:t  Flexible schedule, great management team, PTO ...   \n",
       "2        nyse:t  Amazing pay for a company that is so huge and ...   \n",
       "3        nyse:t  Benefits, compensation, management, my positio...   \n",
       "\n",
       "                                                CONs   company  \n",
       "0  Constant pressure to hit unattainable numbers ...  AT&T Inc  \n",
       "1                   I currently do not have any cons  AT&T Inc  \n",
       "2  Management is always changing which leads to h...  AT&T Inc  \n",
       "3  Way too much red tape...to be expected for a c...  AT&T Inc  "
      ]
     },
     "execution_count": 3,
     "metadata": {},
     "output_type": "execute_result"
    }
   ],
   "source": [
    "reviews.head(4)"
   ]
  },
  {
   "cell_type": "markdown",
   "metadata": {},
   "source": [
    "## Defining some useful functions:"
   ]
  },
  {
   "cell_type": "markdown",
   "metadata": {},
   "source": [
    "### Selecting one company:"
   ]
  },
  {
   "cell_type": "code",
   "execution_count": 4,
   "metadata": {
    "collapsed": true
   },
   "outputs": [],
   "source": [
    "def selection_company(company_name):\n",
    "    'Returns a dataframe containing only Company named company_name'\n",
    "    # select the instances in the column 'company' where it equals company_name:\n",
    "    company=reviews[reviews['company']==company_name]\n",
    "    return company"
   ]
  },
  {
   "cell_type": "markdown",
   "metadata": {},
   "source": [
    "### Selecting positive or negative reviews:"
   ]
  },
  {
   "cell_type": "code",
   "execution_count": 5,
   "metadata": {
    "collapsed": true
   },
   "outputs": [],
   "source": [
    "def selecting_polarity(company_name,polarity):\n",
    "    'Returns a dataframe containing reviews as chosen in the parameter polarity\\\n",
    "      for Company named company_name. The parameter polarity has to\\\n",
    "      be either \"pros\" to select positive reviews or \"cons\" to select negative reviews'\n",
    "    if polarity == 'pros':\n",
    "        company_polarity= selection_company(company_name)[['PROs']].astype('str')\n",
    "    else:\n",
    "        company_polarity= selection_company(company_name)[['CONs']].astype('str')\n",
    "    return company_polarity"
   ]
  },
  {
   "cell_type": "markdown",
   "metadata": {},
   "source": [
    "## Processing reviews (remove stopwords and short words, all lower and no symbols):"
   ]
  },
  {
   "cell_type": "markdown",
   "metadata": {},
   "source": [
    "### Processing function:"
   ]
  },
  {
   "cell_type": "code",
   "execution_count": 6,
   "metadata": {
    "collapsed": true
   },
   "outputs": [],
   "source": [
    "def preprocess(text):\n",
    "    '''This functions processes the input 'text' by removing stopwords, short words\n",
    "        and symbols, returning a list with its processed contents comma separated.'''\n",
    "    processed_text = []\n",
    "    for token in gensim.utils.simple_preprocess(text):\n",
    "        if token not in gensim.parsing.preprocessing.STOPWORDS and len(token) > 2:\n",
    "            processed_text.append(token)\n",
    "    return processed_text"
   ]
  },
  {
   "cell_type": "markdown",
   "metadata": {},
   "source": [
    "### Processing function applied to dataframe:"
   ]
  },
  {
   "cell_type": "code",
   "execution_count": 7,
   "metadata": {
    "collapsed": true
   },
   "outputs": [],
   "source": [
    "def processed(company_name,polarity):\n",
    "    'Returns a series containing processed reviews as chosen in the parameter polarity\\\n",
    "      for Company named company_name. The parameter polarity has to\\\n",
    "      be either \"pros\" to select positive reviews or \"cons\" to select negative reviews'\n",
    "    chosen_company=reviews[reviews['company']==company_name].astype('str')\n",
    "    if polarity == 'pros':\n",
    "        processed_series = chosen_company['PROs'].map(preprocess)\n",
    "    else:\n",
    "        processed_series = chosen_company['CONs'].map(preprocess)\n",
    "    return processed_series"
   ]
  },
  {
   "cell_type": "markdown",
   "metadata": {},
   "source": [
    "## Loading glove:"
   ]
  },
  {
   "cell_type": "code",
   "execution_count": 8,
   "metadata": {
    "collapsed": true
   },
   "outputs": [],
   "source": [
    "dic_name='glove_dir'\n",
    "dict_object=open(dic_name,'rb')\n",
    "embeddings_index2=pickle.load(dict_object)"
   ]
  },
  {
   "cell_type": "markdown",
   "metadata": {},
   "source": [
    "## Cosine similarity:"
   ]
  },
  {
   "cell_type": "code",
   "execution_count": 9,
   "metadata": {
    "collapsed": true
   },
   "outputs": [],
   "source": [
    "def cosin_similarity(v1, v2):\n",
    "    return 1.0 - sp_cosine(v1, v2) "
   ]
  },
  {
   "cell_type": "markdown",
   "metadata": {},
   "source": [
    "## Transforming reviews to vectors:\n",
    "#### In this case we will construct a vector for the value, then a vector for each word of the review, calculate the similarity and keep the maximum similarity for each review. The output is a list containing the maximum similarity for each review."
   ]
  },
  {
   "cell_type": "code",
   "execution_count": 10,
   "metadata": {
    "collapsed": true
   },
   "outputs": [],
   "source": [
    "def reviews_to_vectors_max_overlap2(company,polarity,value):\n",
    "    '''Returns a list of values containing the maximum cosine similarity value between \n",
    "    the input value \"value\" and each review of polarity \"polarity\", which has to be either\n",
    "    \"pros\" or \"cons\", of the input Company \"company_name\"'''\n",
    "    processed_series=processed(company_name,polarity) # store processed series\n",
    "    value_vector=embeddings_index2[value] # vector for the input value\n",
    "    max_overlaps_vector=[] # this list will contain maximum value of cosine similarity between value and each review\n",
    "    for i in range(len(processed_series)): # one pass for each review\n",
    "        overlap_vector=[] # this list will contain values of cosine similarity between value and each word in the review\n",
    "        for token in processed_series.iloc[i]: # one pass for each word in processed review\n",
    "            try:\n",
    "                token_embedding = embeddings_index2[token] # returns vector for given word\n",
    "                if not np.isnan(token_embedding).any():\n",
    "                    overlap_vector.append(cosin_similarity(value_vector,token_embedding)) #calculates cosine similarity between the value and each word in the review\n",
    "            except KeyError: #ignores reviews with misspellings\n",
    "                pass    \n",
    "        if len(overlap_vector) > 0:\n",
    "            max_overlaps_vector.append(np.max(overlap_vector)) # selects maximum cosine similarity and appends it to list\n",
    "        else:\n",
    "            max_overlaps_vector.append(0) # in case the review is empty\n",
    "    return max_overlaps_vector"
   ]
  },
  {
   "cell_type": "code",
   "execution_count": 111,
   "metadata": {
    "collapsed": true
   },
   "outputs": [],
   "source": [
    "%lprun -f reviews_to_vectors_max_overlap2 reviews_to_vectors_max_overlap2(\"Royal Bank of Canada\",\"pros\",\"salary\") #check for bottlenecks"
   ]
  },
  {
   "cell_type": "markdown",
   "metadata": {},
   "source": [
    "## Counting the number of reviews where cosine similarity is above a threshold:"
   ]
  },
  {
   "cell_type": "code",
   "execution_count": 11,
   "metadata": {
    "collapsed": true
   },
   "outputs": [],
   "source": [
    "def count_polarity(company_name,polarity,value,threshold):\n",
    "    '''Returns the number of reviews with polarity \"polarity\" for Company \"company_name\"\n",
    "        where the cosine similarity for value \"value\" is above \"threshold\"'''\n",
    "    series_count_polarity = pd.Series(reviews_to_vectors_max_overlap2(company_name,polarity,value)) #converts list into a series\n",
    "    number_of_counts = series_count_polarity[series_count_polarity >= threshold].count() #counts reviews above a threshold\n",
    "    return number_of_counts"
   ]
  },
  {
   "cell_type": "markdown",
   "metadata": {},
   "source": [
    "## Calculating the score in percentage:"
   ]
  },
  {
   "cell_type": "code",
   "execution_count": 12,
   "metadata": {
    "collapsed": true
   },
   "outputs": [],
   "source": [
    "def percentage_polarity(company_name,polarity,value,threshold):\n",
    "    '''Returns the score between 0 to 100% of Company \"company_name\" for value \"value\"\n",
    "        and polarity \"polarity\" for a given input \"threshold\"'''\n",
    "    series_count_polarity = pd.Series(reviews_to_vectors_max_overlap2(company_name,polarity,value)) #converts list into a series\n",
    "    number_of_counts = series_count_polarity[series_count_polarity >= threshold].count() #counts reviews above a threshold\n",
    "    polarity_percentage = 100*number_of_counts/len(series_count_polarity) #score in percentage is calculated\n",
    "    return polarity_percentage"
   ]
  },
  {
   "cell_type": "markdown",
   "metadata": {},
   "source": [
    "## Select list of companies and values to precompute scores:"
   ]
  },
  {
   "cell_type": "code",
   "execution_count": 13,
   "metadata": {
    "collapsed": true
   },
   "outputs": [],
   "source": [
    "precomputed_companies_list = ['AT&T Inc','Wal-Mart Stores','Nordstrom','Suncor Energy Inc','Wells Fargo & Company',\n",
    "                              'SAP Ag', 'Capital One Financial Corp', 'Fedex Corp','Citigroup Inc', 'Target Corp',\n",
    "                              'JP Morgan Chase & CO', 'Thomson Reuters Corp', 'Coca-Cola Company', 'Yelp Inc',\n",
    "                              'Motorola Solutions', 'Spotify Technology S.A.', 'Morgan Stanley', 'Booz Allen Hamilton Holding Corp',\n",
    "                              'Bank of Montreal','Pfizer Inc', 'Shopify Inc', 'Best Buy CO', 'Goldman Sachs Group',\n",
    "                              'Accenture Plc','HSBC Holdings Plc', 'Bank of America Corp', 'Walt Disney Company',\n",
    "                              'Exxon Mobil Corp', 'CGI Group','Manulife Financial Corp','Visa Inc', 'Boeing Company',\n",
    "                              'AON Plc', 'Equifax Inc', 'Metlife Inc', 'Deutsche Bank Ag', 'Toronto Dominion Bank',\n",
    "                              'Kellogg Company', 'CBS Corp', 'Blackberry Ltd', 'General Electric Company',\n",
    "                              'Procter & Gamble Company', '3M Company', 'Unilever NV', 'American Express Company',\n",
    "                              'Credit Suisse Group', 'Square', 'Twitter Inc', 'Sun Life Financial Inc', \n",
    "                              'Royal Bank of Canada', 'Bank of Nova Scotia', 'Avon Products','Sony Corp', 'Loews Corp',\n",
    "                              'Mastercard Inc', 'National Bank Holdings Corp', 'Rogers Communication', \n",
    "                              'Canadian Imperial Bank of Commerce', 'Fitbit Inc']\n",
    "precomputed_values_list = ['compensation', 'flexibility', 'location', 'vacations', 'vacation', 'team', 'size',\n",
    "                          'structure', 'balance', 'environment', 'holidays', 'money', 'people', 'growth',\n",
    "                          'prestige', 'established', 'name', 'boss', 'pay', 'size', 'culture', 'location',\n",
    "                          'impact', 'innovation', 'research', 'benefits', 'pension', 'insurance', 'medical',\n",
    "                          'facilities', 'gym','parking', 'training', 'development', 'growth', 'mobility', \n",
    "                          'hierarchy', 'mission', 'management', 'politics', 'opportunities', 'polocies',\n",
    "                          'friendliness', 'projects', 'challenging', 'product', 'learn', 'pace', 'employee',\n",
    "                          'employees']\n",
    "polarities_list = ['pros','cons']"
   ]
  },
  {
   "cell_type": "markdown",
   "metadata": {
    "collapsed": true
   },
   "source": [
    "## Precomputing scores:"
   ]
  },
  {
   "cell_type": "code",
   "execution_count": null,
   "metadata": {},
   "outputs": [],
   "source": [
    "precomputed_results_percentage = {} #define new dictionary where scores will be stored\n",
    "for value_ in precomputed_values_list:\n",
    "    print(value_) #to keep track\n",
    "    for company_ in precomputed_companies_list:\n",
    "        print(company_) #to keep track\n",
    "        for polarity_ in polarities_list:\n",
    "            print(polarity_) #to keep track\n",
    "            precomputed_results_percentage[value_, company_,polarity_] = \\\n",
    "                percentage_polarity(company_,polarity_,value_,0.6)"
   ]
  },
  {
   "cell_type": "markdown",
   "metadata": {},
   "source": [
    "### dump into pickle file:"
   ]
  },
  {
   "cell_type": "code",
   "execution_count": 62,
   "metadata": {
    "collapsed": true
   },
   "outputs": [],
   "source": [
    "with open('pre_percentage.pickle', 'wb') as handle:\n",
    "    pickle.dump(precomputed_results_percentage, handle, protocol=pickle.HIGHEST_PROTOCOL)"
   ]
  },
  {
   "cell_type": "markdown",
   "metadata": {},
   "source": [
    "### load file:"
   ]
  },
  {
   "cell_type": "code",
   "execution_count": 14,
   "metadata": {
    "collapsed": true
   },
   "outputs": [],
   "source": [
    "with open('pre_percentage.pickle', 'rb') as handle:\n",
    "    pre_percentage_polarity = pickle.load(handle)"
   ]
  },
  {
   "cell_type": "code",
   "execution_count": 15,
   "metadata": {},
   "outputs": [
    {
     "data": {
      "text/plain": [
       "50.615961435457955"
      ]
     },
     "execution_count": 15,
     "metadata": {},
     "output_type": "execute_result"
    }
   ],
   "source": [
    " pre_percentage_polarity['balance','Royal Bank of Canada','pros']"
   ]
  },
  {
   "cell_type": "markdown",
   "metadata": {},
   "source": [
    "## Ploting percentage scores:"
   ]
  },
  {
   "cell_type": "code",
   "execution_count": 16,
   "metadata": {
    "collapsed": true
   },
   "outputs": [],
   "source": [
    "def percentage_plot(value,company_name): \n",
    "    '''Returns Bar Plot of scores for company \"company_name\" and input \"value\"'''\n",
    "    height_pro=pre_percentage_polarity[value, company_name,'pros']\n",
    "    height_con=pre_percentage_polarity[value, company_name,'cons']\n",
    "    height=[height_pro,height_con]\n",
    "    plt.bar(['PROS','CONS'],height,color=[(0.1, 0.7, 0.6, 0.6),(1, 0.3, 0.2, 0.6)])\n",
    "    plt.ylabel('%')\n",
    "    plt.title(value)"
   ]
  },
  {
   "cell_type": "code",
   "execution_count": 17,
   "metadata": {},
   "outputs": [
    {
     "data": {
      "image/png": "[encoded data removed]",
      "text/plain": [
       "<matplotlib.figure.Figure at 0x1a2b9e57f0>"
      ]
     },
     "metadata": {},
     "output_type": "display_data"
    }
   ],
   "source": [
    "percentage_plot('balance','Royal Bank of Canada')"
   ]
  },
  {
   "cell_type": "markdown",
   "metadata": {},
   "source": [
    "## Pie plots:"
   ]
  },
  {
   "cell_type": "code",
   "execution_count": 18,
   "metadata": {
    "collapsed": true
   },
   "outputs": [],
   "source": [
    "def percentage_plot_pie(value,company_name): \n",
    "    '''Returns Pie Plot of scores for company \"company_name\" and input \"value\"'''\n",
    "    height_pro=pre_percentage_polarity[value, company_name,'pros']\n",
    "    height_con=pre_percentage_polarity[value, company_name,'cons']\n",
    "    height=[height_pro,height_con,100-(height_pro+height_con)]\n",
    "    labels=['positive', 'negative','not mentioned']\n",
    "    pie =plt.pie(height,colors=[(0.1, 0.7, 0.6, 0.5),(1, 0.3, 0.2, 0.5),(.2,.1,.4,.5)],autopct='%1.1f%%')\n",
    "    plt.axis(\"image\")\n",
    "    plt.legend(pie[0], labels, bbox_to_anchor=(1,0.5), loc=\"center right\", fontsize=15, \n",
    "                          bbox_transform=plt.gcf().transFigure)\n",
    "    plt.subplots_adjust(left=0.0, bottom=0.1, right=0.45)\n",
    "    plt.title(value, fontsize=20)"
   ]
  },
  {
   "cell_type": "code",
   "execution_count": 19,
   "metadata": {},
   "outputs": [
    {
     "data": {
      "image/png": "[encoded data removed]",
      "text/plain": [
       "<matplotlib.figure.Figure at 0x1a2ba2e0f0>"
      ]
     },
     "metadata": {},
     "output_type": "display_data"
    }
   ],
   "source": [
    "percentage_plot_pie('balance','Royal Bank of Canada')"
   ]
  },
  {
   "cell_type": "markdown",
   "metadata": {},
   "source": [
    "## Common values:"
   ]
  },
  {
   "cell_type": "code",
   "execution_count": 20,
   "metadata": {
    "collapsed": true
   },
   "outputs": [],
   "source": [
    "values_common=['salary','management','culture','balance','team']"
   ]
  },
  {
   "cell_type": "markdown",
   "metadata": {},
   "source": [
    "## Scores for list of values:"
   ]
  },
  {
   "cell_type": "code",
   "execution_count": 21,
   "metadata": {
    "collapsed": true
   },
   "outputs": [],
   "source": [
    "def values_company_score_pro_con(company_name,list_values,threshold):\n",
    "    score_value_pro=[] #list to store the positive scores\n",
    "    score_value_con=[] # list to score the negative scores\n",
    "    for value in list_values:\n",
    "        score_value_pro.append(pre_percentage_polarity[value, company_name,'pros'])\n",
    "        score_value_con.append(pre_percentage_polarity[value, company_name,'cons'])\n",
    "    return score_value_pro,score_value_con"
   ]
  },
  {
   "cell_type": "markdown",
   "metadata": {},
   "source": [
    "## Precomputing scores for list of values:"
   ]
  },
  {
   "cell_type": "code",
   "execution_count": null,
   "metadata": {},
   "outputs": [],
   "source": [
    "precomputed_values_score = {} #define new dictionary where scores will be stored\n",
    "for company_ in precomputed_companies_list:\n",
    "    print(company_) # to keep track\n",
    "    precomputed_values_score[company_] = \\\n",
    "        values_company_score_pro_con(company_,values_common,0.6)"
   ]
  },
  {
   "cell_type": "markdown",
   "metadata": {},
   "source": [
    "### dump precomputed scores to pickle file:"
   ]
  },
  {
   "cell_type": "code",
   "execution_count": 83,
   "metadata": {
    "collapsed": true
   },
   "outputs": [],
   "source": [
    "with open('pre_scores.pickle', 'wb') as handle:\n",
    "    pickle.dump(precomputed_values_score, handle, protocol=pickle.HIGHEST_PROTOCOL)"
   ]
  },
  {
   "cell_type": "markdown",
   "metadata": {},
   "source": [
    "### load from pickle:"
   ]
  },
  {
   "cell_type": "code",
   "execution_count": 22,
   "metadata": {
    "collapsed": true
   },
   "outputs": [],
   "source": [
    "with open('pre_scores.pickle', 'rb') as handle:\n",
    "    pre_values_company_score_pro_con = pickle.load(handle)"
   ]
  },
  {
   "cell_type": "markdown",
   "metadata": {
    "collapsed": true
   },
   "source": [
    "## Ploting scores for common values:"
   ]
  },
  {
   "cell_type": "code",
   "execution_count": 23,
   "metadata": {
    "collapsed": true
   },
   "outputs": [],
   "source": [
    "def final_plot_pro_con(company_name):\n",
    "    '''Returns Bar plot with positive and negative scores for Company \"company_name\" '''\n",
    "    height_p,height_c=pre_values_company_score_pro_con[company_name] # call scores for company\n",
    "    N = len(height_p)\n",
    "    final_height_pro = height_p #positive scores\n",
    "\n",
    "    ind = np.arange(N)  # the x locations for the groups\n",
    "    width = 0.4       # the width of the bars\n",
    "\n",
    "    fig = plt.figure(figsize=[10,8])\n",
    "    ax = fig.add_subplot(111)\n",
    "    rects1 = ax.barh(ind, final_height_pro, width, color=(0.1, 0.7, 0.6, 0.6)) #positive scores plot\n",
    "\n",
    "    final_height_con = height_c # negative scores\n",
    "    rects2 = ax.barh(ind+width, final_height_con, width, color=(1, 0.3, 0.2, 0.6)) #negative scores plot\n",
    "\n",
    "    # add some\n",
    "    ax.set_xlabel('Score %', fontsize=18)\n",
    "    ax.set_title('Scores by values', fontsize=25)\n",
    "    ax.set_yticks(ind + width / 2)\n",
    "    ax.set_yticklabels( values_common, fontsize=18)\n",
    "\n",
    "    ax.legend( (rects1[0], rects2[0]), ('positive', 'negative'), fontsize=20)"
   ]
  },
  {
   "cell_type": "code",
   "execution_count": 24,
   "metadata": {},
   "outputs": [
    {
     "data": {
      "image/png": "[encoded data removed]",
      "text/plain": [
       "<matplotlib.figure.Figure at 0x1a2ba75940>"
      ]
     },
     "metadata": {},
     "output_type": "display_data"
    }
   ],
   "source": [
    "final_plot_pro_con('Royal Bank of Canada')"
   ]
  },
  {
   "cell_type": "markdown",
   "metadata": {},
   "source": [
    "## Box plot for all companies indicating company of interest in plot:"
   ]
  },
  {
   "cell_type": "code",
   "execution_count": 25,
   "metadata": {
    "collapsed": true
   },
   "outputs": [],
   "source": [
    "def box_plot_value(company_name,polarity,value):\n",
    "    if polarity == 'pros':\n",
    "        scores_companies_all=[] # list to store score\n",
    "        value_in_boxplot=pre_percentage_polarity[value, company_name,'pros'] # positive score for company_name\n",
    "        for company in precomputed_companies_list:\n",
    "            scores_companies_all.append(pre_percentage_polarity[value, company,'pros']) \n",
    "    else:\n",
    "        scores_companies_all=[]# list to store score\n",
    "        value_in_boxplot=pre_percentage_polarity[value, company_name,'cons'] # negative score for company_name\n",
    "        for company in precomputed_companies_list:\n",
    "            scores_companies_all.append(pre_percentage_polarity[value, company,'cons']) \n",
    "        \n",
    "    fig = plt.figure(figsize=[10,8])\n",
    "    ax = fig.add_subplot(111)\n",
    "    bp = ax.boxplot(scores_companies_all,patch_artist=True)\n",
    "    rects2 = ax.scatter(1,value_in_boxplot,color='blue')  \n",
    "\n",
    "    ax.set_title(value,size=18)\n",
    "    # annotation of company_name in the plot, indicated by an arrow:\n",
    "    ax.annotate(company_name,\n",
    "                size=18,color='black',\n",
    "            xy=(1, value_in_boxplot), xycoords='data',\n",
    "            xytext=(0.3, 0.5), textcoords='axes fraction',\n",
    "            arrowprops=dict(facecolor='blue', shrink=0.05),\n",
    "            horizontalalignment='right', verticalalignment='bottom')\n",
    "    # changing colors:\n",
    "    for box in bp['boxes']:\n",
    "        box.set( facecolor = (0.1, 0.7, 0.6, 0.2) )\n",
    "\n",
    "    for median in bp['medians']:\n",
    "        median.set(color=(0.1, 0.7, 0.6, 0.9), linewidth=2)"
   ]
  },
  {
   "cell_type": "code",
   "execution_count": 26,
   "metadata": {},
   "outputs": [
    {
     "data": {
      "image/png": "[encoded data removed]",
      "text/plain": [
       "<matplotlib.figure.Figure at 0x1a2badb908>"
      ]
     },
     "metadata": {},
     "output_type": "display_data"
    }
   ],
   "source": [
    "box_plot_value('Royal Bank of Canada','pros','balance')"
   ]
  },
  {
   "cell_type": "markdown",
   "metadata": {},
   "source": [
    "# Validation of the model:"
   ]
  },
  {
   "cell_type": "markdown",
   "metadata": {},
   "source": [
    "## Here I convert all scores for the selected companies to a scale of 0 to 5 for the following values: pay, management and culture."
   ]
  },
  {
   "cell_type": "markdown",
   "metadata": {},
   "source": [
    "### pay:"
   ]
  },
  {
   "cell_type": "code",
   "execution_count": 27,
   "metadata": {
    "collapsed": true
   },
   "outputs": [],
   "source": [
    "score_salary_pro=[]\n",
    "for company in precomputed_companies_list:\n",
    "    score_salary_pro.append(pre_percentage_polarity['pay', company, 'pros'])\n",
    "    score_salary_con=[]\n",
    "for company in precomputed_companies_list:\n",
    "    score_salary_con.append(pre_percentage_polarity['pay', company, 'cons'])\n",
    "score_salary=[]\n",
    "for i in range(len(score_salary_pro)):\n",
    "    score_salary.append(5*score_salary_pro[i]/(score_salary_pro[i]+score_salary_con)[i])"
   ]
  },
  {
   "cell_type": "markdown",
   "metadata": {},
   "source": [
    "### management:"
   ]
  },
  {
   "cell_type": "code",
   "execution_count": 28,
   "metadata": {
    "collapsed": true
   },
   "outputs": [],
   "source": [
    "score_management_pro=[]\n",
    "for company in precomputed_companies_list:\n",
    "    score_management_pro.append(pre_percentage_polarity['management', company, 'pros'])\n",
    "    score_management_con=[]\n",
    "for company in precomputed_companies_list:\n",
    "    score_management_con.append(pre_percentage_polarity['management', company, 'cons'])\n",
    "score_management=[]\n",
    "for i in range(len(score_management_pro)):\n",
    "    score_management.append(5*score_management_pro[i]/(score_management_pro[i]+score_management_con)[i])"
   ]
  },
  {
   "cell_type": "markdown",
   "metadata": {},
   "source": [
    "### culture:"
   ]
  },
  {
   "cell_type": "code",
   "execution_count": 29,
   "metadata": {
    "collapsed": true
   },
   "outputs": [],
   "source": [
    "score_culture_pro=[]\n",
    "for company in precomputed_companies_list:\n",
    "    score_culture_pro.append(pre_percentage_polarity['culture', company, 'pros'])\n",
    "    score_culture_con=[]\n",
    "for company in precomputed_companies_list:\n",
    "    score_culture_con.append(pre_percentage_polarity['culture', company, 'cons'])\n",
    "score_culture=[]\n",
    "for i in range(len(score_culture_pro)):\n",
    "    score_culture.append(5*score_culture_pro[i]/(score_culture_pro[i]+score_culture_con)[i])"
   ]
  },
  {
   "cell_type": "markdown",
   "metadata": {},
   "source": [
    "## load validation dataframe:\n",
    "### this dataframe contains the scores in different areas, where each line corresponds to a different review"
   ]
  },
  {
   "cell_type": "code",
   "execution_count": 30,
   "metadata": {
    "collapsed": true
   },
   "outputs": [],
   "source": [
    "with open('validation_df.pickle', 'rb') as handle:\n",
    "    validation_df = pickle.load(handle)"
   ]
  },
  {
   "cell_type": "code",
   "execution_count": 31,
   "metadata": {},
   "outputs": [
    {
     "data": {
      "text/html": [
       "<div>\n",
       "<style scoped>\n",
       "    .dataframe tbody tr th:only-of-type {\n",
       "        vertical-align: middle;\n",
       "    }\n",
       "\n",
       "    .dataframe tbody tr th {\n",
       "        vertical-align: top;\n",
       "    }\n",
       "\n",
       "    .dataframe thead th {\n",
       "        text-align: right;\n",
       "    }\n",
       "</style>\n",
       "<table border=\"1\" class=\"dataframe\">\n",
       "  <thead>\n",
       "    <tr style=\"text-align: right;\">\n",
       "      <th></th>\n",
       "      <th>Rating: Comp &amp; Benefits</th>\n",
       "      <th>company</th>\n",
       "      <th>Rating: Culture &amp; Values</th>\n",
       "      <th>Rating: Senior Management</th>\n",
       "    </tr>\n",
       "  </thead>\n",
       "  <tbody>\n",
       "    <tr>\n",
       "      <th>0</th>\n",
       "      <td>4.0</td>\n",
       "      <td>AT&amp;T Inc</td>\n",
       "      <td>2.0</td>\n",
       "      <td>2.0</td>\n",
       "    </tr>\n",
       "    <tr>\n",
       "      <th>2</th>\n",
       "      <td>4.0</td>\n",
       "      <td>AT&amp;T Inc</td>\n",
       "      <td>4.0</td>\n",
       "      <td>3.0</td>\n",
       "    </tr>\n",
       "    <tr>\n",
       "      <th>3</th>\n",
       "      <td>4.0</td>\n",
       "      <td>AT&amp;T Inc</td>\n",
       "      <td>4.0</td>\n",
       "      <td>4.0</td>\n",
       "    </tr>\n",
       "    <tr>\n",
       "      <th>4</th>\n",
       "      <td>4.0</td>\n",
       "      <td>AT&amp;T Inc</td>\n",
       "      <td>4.0</td>\n",
       "      <td>4.0</td>\n",
       "    </tr>\n",
       "    <tr>\n",
       "      <th>5</th>\n",
       "      <td>4.0</td>\n",
       "      <td>AT&amp;T Inc</td>\n",
       "      <td>4.0</td>\n",
       "      <td>4.0</td>\n",
       "    </tr>\n",
       "  </tbody>\n",
       "</table>\n",
       "</div>"
      ],
      "text/plain": [
       "   Rating: Comp & Benefits   company  Rating: Culture & Values  \\\n",
       "0                      4.0  AT&T Inc                       2.0   \n",
       "2                      4.0  AT&T Inc                       4.0   \n",
       "3                      4.0  AT&T Inc                       4.0   \n",
       "4                      4.0  AT&T Inc                       4.0   \n",
       "5                      4.0  AT&T Inc                       4.0   \n",
       "\n",
       "   Rating: Senior Management  \n",
       "0                        2.0  \n",
       "2                        3.0  \n",
       "3                        4.0  \n",
       "4                        4.0  \n",
       "5                        4.0  "
      ]
     },
     "execution_count": 31,
     "metadata": {},
     "output_type": "execute_result"
    }
   ],
   "source": [
    "validation_df.head()"
   ]
  },
  {
   "cell_type": "markdown",
   "metadata": {},
   "source": [
    "## Calculate mean score for each company for the following values: salary, management and culture:"
   ]
  },
  {
   "cell_type": "code",
   "execution_count": 32,
   "metadata": {
    "collapsed": true
   },
   "outputs": [],
   "source": [
    "mean_review_salary=[]\n",
    "for company_name in precomputed_companies_list:\n",
    "    mean_review_salary.append(validation_df[validation_df['company']==company_name].dropna()['Rating: Comp & Benefits'].mean())"
   ]
  },
  {
   "cell_type": "code",
   "execution_count": 33,
   "metadata": {
    "collapsed": true
   },
   "outputs": [],
   "source": [
    "mean_review_management=[]\n",
    "for company_name in precomputed_companies_list:\n",
    "    mean_review_management.append(validation_df[validation_df['company']==company_name].dropna()['Rating: Senior Management'].mean())"
   ]
  },
  {
   "cell_type": "code",
   "execution_count": 34,
   "metadata": {
    "collapsed": true
   },
   "outputs": [],
   "source": [
    "mean_review_culture=[]\n",
    "for company_name in precomputed_companies_list:\n",
    "    mean_review_culture.append(validation_df[validation_df['company']==company_name].dropna()['Rating: Culture & Values'].mean())"
   ]
  },
  {
   "cell_type": "markdown",
   "metadata": {
    "collapsed": true
   },
   "source": [
    "## Create a dataframe with mean score of Glassdoor reviews and my calculated scores:"
   ]
  },
  {
   "cell_type": "code",
   "execution_count": 35,
   "metadata": {
    "collapsed": true
   },
   "outputs": [],
   "source": [
    "scores_df = pd.DataFrame({'UV_management':score_management})\n",
    "scores_df['UV_salary'] = score_salary\n",
    "scores_df['UV_culture'] = score_culture\n",
    "scores_df['glassdoor_management'] = mean_review_management\n",
    "scores_df['glassdoor_salary'] = mean_review_salary\n",
    "scores_df['glassdoor_culture'] = mean_review_culture"
   ]
  },
  {
   "cell_type": "code",
   "execution_count": 36,
   "metadata": {},
   "outputs": [
    {
     "data": {
      "text/html": [
       "<div>\n",
       "<style scoped>\n",
       "    .dataframe tbody tr th:only-of-type {\n",
       "        vertical-align: middle;\n",
       "    }\n",
       "\n",
       "    .dataframe tbody tr th {\n",
       "        vertical-align: top;\n",
       "    }\n",
       "\n",
       "    .dataframe thead th {\n",
       "        text-align: right;\n",
       "    }\n",
       "</style>\n",
       "<table border=\"1\" class=\"dataframe\">\n",
       "  <thead>\n",
       "    <tr style=\"text-align: right;\">\n",
       "      <th></th>\n",
       "      <th>UV_management</th>\n",
       "      <th>UV_salary</th>\n",
       "      <th>UV_culture</th>\n",
       "      <th>glassdoor_management</th>\n",
       "      <th>glassdoor_salary</th>\n",
       "      <th>glassdoor_culture</th>\n",
       "    </tr>\n",
       "  </thead>\n",
       "  <tbody>\n",
       "    <tr>\n",
       "      <th>0</th>\n",
       "      <td>2.295473</td>\n",
       "      <td>2.805053</td>\n",
       "      <td>2.237391</td>\n",
       "      <td>2.910987</td>\n",
       "      <td>3.722990</td>\n",
       "      <td>3.128796</td>\n",
       "    </tr>\n",
       "    <tr>\n",
       "      <th>1</th>\n",
       "      <td>2.209203</td>\n",
       "      <td>2.514947</td>\n",
       "      <td>2.659544</td>\n",
       "      <td>2.693843</td>\n",
       "      <td>3.040788</td>\n",
       "      <td>2.968325</td>\n",
       "    </tr>\n",
       "    <tr>\n",
       "      <th>2</th>\n",
       "      <td>2.515446</td>\n",
       "      <td>2.569727</td>\n",
       "      <td>2.907950</td>\n",
       "      <td>3.259711</td>\n",
       "      <td>3.537126</td>\n",
       "      <td>3.742237</td>\n",
       "    </tr>\n",
       "    <tr>\n",
       "      <th>3</th>\n",
       "      <td>2.445087</td>\n",
       "      <td>2.786790</td>\n",
       "      <td>2.893891</td>\n",
       "      <td>3.336006</td>\n",
       "      <td>3.827988</td>\n",
       "      <td>3.556122</td>\n",
       "    </tr>\n",
       "    <tr>\n",
       "      <th>4</th>\n",
       "      <td>2.436243</td>\n",
       "      <td>2.655277</td>\n",
       "      <td>2.986722</td>\n",
       "      <td>3.010633</td>\n",
       "      <td>3.469142</td>\n",
       "      <td>3.325454</td>\n",
       "    </tr>\n",
       "  </tbody>\n",
       "</table>\n",
       "</div>"
      ],
      "text/plain": [
       "   UV_management  UV_salary  UV_culture  glassdoor_management  \\\n",
       "0       2.295473   2.805053    2.237391              2.910987   \n",
       "1       2.209203   2.514947    2.659544              2.693843   \n",
       "2       2.515446   2.569727    2.907950              3.259711   \n",
       "3       2.445087   2.786790    2.893891              3.336006   \n",
       "4       2.436243   2.655277    2.986722              3.010633   \n",
       "\n",
       "   glassdoor_salary  glassdoor_culture  \n",
       "0          3.722990           3.128796  \n",
       "1          3.040788           2.968325  \n",
       "2          3.537126           3.742237  \n",
       "3          3.827988           3.556122  \n",
       "4          3.469142           3.325454  "
      ]
     },
     "execution_count": 36,
     "metadata": {},
     "output_type": "execute_result"
    }
   ],
   "source": [
    "scores_df.head()"
   ]
  },
  {
   "cell_type": "markdown",
   "metadata": {},
   "source": [
    "## Plot glassdoor scores vs my calculated scores, where each point represents a different company:"
   ]
  },
  {
   "cell_type": "code",
   "execution_count": 37,
   "metadata": {},
   "outputs": [
    {
     "data": {
      "text/plain": [
       "Text(27.125,0.5,'UValue management score')"
      ]
     },
     "execution_count": 37,
     "metadata": {},
     "output_type": "execute_result"
    },
    {
     "data": {
      "image/png": "[encoded data removed]",
      "text/plain": [
       "<matplotlib.figure.Figure at 0x1a4ed34400>"
      ]
     },
     "metadata": {},
     "output_type": "display_data"
    }
   ],
   "source": [
    "ax=sns.jointplot(x='glassdoor_management', y='UV_management',data= scores_df,color=\"g\",kind=\"reg\")\n",
    "ax.ax_joint.set_xlabel('Glassdoor management score')\n",
    "ax.ax_joint.set_ylabel('UValue management score')"
   ]
  },
  {
   "cell_type": "code",
   "execution_count": 38,
   "metadata": {},
   "outputs": [
    {
     "data": {
      "text/plain": [
       "Text(27.125,0.5,'UValue salary score')"
      ]
     },
     "execution_count": 38,
     "metadata": {},
     "output_type": "execute_result"
    },
    {
     "data": {
      "image/png": "[encoded data removed]",
      "text/plain": [
       "<matplotlib.figure.Figure at 0x1a2baa7668>"
      ]
     },
     "metadata": {},
     "output_type": "display_data"
    }
   ],
   "source": [
    "ax=sns.jointplot(x='glassdoor_salary', y='UV_salary',data= scores_df,color=\"g\",kind=\"reg\")\n",
    "ax.ax_joint.set_xlabel('Glassdoor salary score')\n",
    "ax.ax_joint.set_ylabel('UValue salary score')"
   ]
  },
  {
   "cell_type": "code",
   "execution_count": 39,
   "metadata": {},
   "outputs": [
    {
     "data": {
      "text/plain": [
       "Text(27.125,0.5,'UValue culture score')"
      ]
     },
     "execution_count": 39,
     "metadata": {},
     "output_type": "execute_result"
    },
    {
     "data": {
      "image/png": "[encoded data removed]",
      "text/plain": [
       "<matplotlib.figure.Figure at 0x1a2bb790f0>"
      ]
     },
     "metadata": {},
     "output_type": "display_data"
    }
   ],
   "source": [
    "ax=sns.jointplot(x='glassdoor_culture', y='UV_culture',data= scores_df,color=\"g\",kind=\"reg\")\n",
    "ax.ax_joint.set_xlabel('Glassdoor culture score')\n",
    "ax.ax_joint.set_ylabel('UValue culture score')"
   ]
  },
  {
   "cell_type": "code",
   "execution_count": null,
   "metadata": {
    "collapsed": true
   },
   "outputs": [],
   "source": []
  }
 ],
 "metadata": {
  "kernelspec": {
   "display_name": "Python 3",
   "language": "python",
   "name": "python3"
  },
  "language_info": {
   "codemirror_mode": {
    "name": "ipython",
    "version": 3
   },
   "file_extension": ".py",
   "mimetype": "text/x-python",
   "name": "python",
   "nbconvert_exporter": "python",
   "pygments_lexer": "ipython3",
   "version": "3.6.3"
  }
 },
 "nbformat": 4,
 "nbformat_minor": 2
}
